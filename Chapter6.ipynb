{
 "cells": [
  {
   "cell_type": "markdown",
   "id": "2decf1d2",
   "metadata": {},
   "source": [
    "# Manipulating Strings"
   ]
  },
  {
   "cell_type": "markdown",
   "id": "17feaa47",
   "metadata": {},
   "source": [
    "## Working with Strings"
   ]
  },
  {
   "cell_type": "markdown",
   "id": "27e35a13",
   "metadata": {},
   "source": [
    "### String Literals"
   ]
  },
  {
   "cell_type": "markdown",
   "id": "5cae8c97",
   "metadata": {},
   "source": [
    "#### Double quotes"
   ]
  },
  {
   "cell_type": "code",
   "execution_count": 1,
   "id": "03b94cba",
   "metadata": {},
   "outputs": [
    {
     "data": {
      "text/plain": [
       "\"This is Alice's cat.\""
      ]
     },
     "execution_count": 1,
     "metadata": {},
     "output_type": "execute_result"
    }
   ],
   "source": [
    "spam = \"This is Alice's cat.\"\n",
    "spam"
   ]
  },
  {
   "cell_type": "markdown",
   "id": "820f7587",
   "metadata": {},
   "source": [
    "#### Escape Characters"
   ]
  },
  {
   "cell_type": "code",
   "execution_count": 2,
   "id": "db092554",
   "metadata": {},
   "outputs": [
    {
     "data": {
      "text/plain": [
       "\"Say hi to Bob's mother\""
      ]
     },
     "execution_count": 2,
     "metadata": {},
     "output_type": "execute_result"
    }
   ],
   "source": [
    "spam = 'Say hi to Bob\\'s mother'\n",
    "spam"
   ]
  },
  {
   "cell_type": "code",
   "execution_count": 3,
   "id": "a64dd194",
   "metadata": {},
   "outputs": [
    {
     "name": "stdout",
     "output_type": "stream",
     "text": [
      "Hello there!\n",
      "How are you?\n",
      "I'm doing fine.\n"
     ]
    }
   ],
   "source": [
    "print(\"Hello there!\\nHow are you?\\nI\\'m doing fine.\")"
   ]
  },
  {
   "cell_type": "markdown",
   "id": "680e9262",
   "metadata": {},
   "source": [
    "#### Raw Strings"
   ]
  },
  {
   "cell_type": "code",
   "execution_count": 4,
   "id": "66a69ac1",
   "metadata": {},
   "outputs": [
    {
     "name": "stdout",
     "output_type": "stream",
     "text": [
      "This is Carol\\'s cat.\n"
     ]
    }
   ],
   "source": [
    "print(r'This is Carol\\'s cat.')"
   ]
  },
  {
   "cell_type": "markdown",
   "id": "894da7c1",
   "metadata": {},
   "source": [
    "#### Multiline String with triple quotes"
   ]
  },
  {
   "cell_type": "code",
   "execution_count": 5,
   "id": "53f3c28f",
   "metadata": {},
   "outputs": [
    {
     "name": "stdout",
     "output_type": "stream",
     "text": [
      "Dear Alice,\n",
      "\n",
      "Eve's cat has been arrested for catnapping, cat burglary, and extortion.\n",
      "\n",
      "Sincerely,\n",
      "Bob\n"
     ]
    }
   ],
   "source": [
    "print('''Dear Alice,\n",
    "\n",
    "Eve's cat has been arrested for catnapping, cat burglary, and extortion.\n",
    "\n",
    "Sincerely,\n",
    "Bob''')"
   ]
  },
  {
   "cell_type": "markdown",
   "id": "031dfd63",
   "metadata": {},
   "source": [
    "#### Multiline Comments"
   ]
  },
  {
   "cell_type": "code",
   "execution_count": 6,
   "id": "e0f17a5c",
   "metadata": {},
   "outputs": [],
   "source": [
    "\"\"\"This is a test Python program.\n",
    "Written by Al Sweigart al@inventwithpython.com\n",
    "\n",
    "This program was designed for Python 3, not Python 2.\n",
    "\"\"\"\n",
    "\n",
    "def spam():\n",
    "    \"\"\"This is a multiline comment to help\n",
    "    explain what the spam() function does.\"\"\"\n",
    "    print('Hello!')"
   ]
  },
  {
   "cell_type": "markdown",
   "id": "4bc8e0c7",
   "metadata": {},
   "source": [
    "### Indexing and slicing Strings"
   ]
  },
  {
   "cell_type": "code",
   "execution_count": 7,
   "id": "e8ddea2a",
   "metadata": {},
   "outputs": [
    {
     "name": "stdout",
     "output_type": "stream",
     "text": [
      "H\n",
      "o\n",
      "!\n",
      "Hello\n",
      "Hello\n",
      "world!\n"
     ]
    }
   ],
   "source": [
    "spam = 'Hello world!'\n",
    "print(spam[0])\n",
    "print(spam[4])\n",
    "print(spam[-1])\n",
    "print(spam[0:5])\n",
    "print(spam[:5])\n",
    "print(spam[6:])"
   ]
  },
  {
   "cell_type": "code",
   "execution_count": 8,
   "id": "9d7f23fa",
   "metadata": {},
   "outputs": [
    {
     "data": {
      "text/plain": [
       "'Hello'"
      ]
     },
     "execution_count": 8,
     "metadata": {},
     "output_type": "execute_result"
    }
   ],
   "source": [
    "fizz = spam[0:5]\n",
    "fizz"
   ]
  },
  {
   "cell_type": "markdown",
   "id": "26ded04c",
   "metadata": {},
   "source": [
    "### The in and not in operators with Strings"
   ]
  },
  {
   "cell_type": "code",
   "execution_count": 9,
   "id": "8d2fe6c3",
   "metadata": {},
   "outputs": [
    {
     "data": {
      "text/plain": [
       "True"
      ]
     },
     "execution_count": 9,
     "metadata": {},
     "output_type": "execute_result"
    }
   ],
   "source": [
    "'Hello' in 'Hello World!'"
   ]
  },
  {
   "cell_type": "code",
   "execution_count": 10,
   "id": "02d5bfbc",
   "metadata": {},
   "outputs": [
    {
     "data": {
      "text/plain": [
       "True"
      ]
     },
     "execution_count": 10,
     "metadata": {},
     "output_type": "execute_result"
    }
   ],
   "source": [
    "'Hello' in 'Hello'"
   ]
  },
  {
   "cell_type": "code",
   "execution_count": 11,
   "id": "7ad48809",
   "metadata": {},
   "outputs": [
    {
     "data": {
      "text/plain": [
       "False"
      ]
     },
     "execution_count": 11,
     "metadata": {},
     "output_type": "execute_result"
    }
   ],
   "source": [
    "'HELLO' in 'Hello World'"
   ]
  },
  {
   "cell_type": "code",
   "execution_count": 12,
   "id": "8e61dacf",
   "metadata": {},
   "outputs": [
    {
     "data": {
      "text/plain": [
       "True"
      ]
     },
     "execution_count": 12,
     "metadata": {},
     "output_type": "execute_result"
    }
   ],
   "source": [
    "'' in 'spam'"
   ]
  },
  {
   "cell_type": "code",
   "execution_count": 13,
   "id": "83a2ca6f",
   "metadata": {},
   "outputs": [
    {
     "data": {
      "text/plain": [
       "False"
      ]
     },
     "execution_count": 13,
     "metadata": {},
     "output_type": "execute_result"
    }
   ],
   "source": [
    "'cats' not in 'cats and dogs'"
   ]
  },
  {
   "cell_type": "markdown",
   "id": "f4bc25cd",
   "metadata": {},
   "source": [
    "## Useful String methods"
   ]
  },
  {
   "cell_type": "markdown",
   "id": "40809133",
   "metadata": {},
   "source": [
    "### The upper(), lower(), usupper(), and islower() String methods"
   ]
  },
  {
   "cell_type": "code",
   "execution_count": 14,
   "id": "e4b8127f",
   "metadata": {},
   "outputs": [
    {
     "data": {
      "text/plain": [
       "'HELLO WORLD!'"
      ]
     },
     "execution_count": 14,
     "metadata": {},
     "output_type": "execute_result"
    }
   ],
   "source": [
    "spam.upper()"
   ]
  },
  {
   "cell_type": "code",
   "execution_count": 15,
   "id": "49371a10",
   "metadata": {},
   "outputs": [
    {
     "data": {
      "text/plain": [
       "'hello world!'"
      ]
     },
     "execution_count": 15,
     "metadata": {},
     "output_type": "execute_result"
    }
   ],
   "source": [
    "spam.lower()"
   ]
  },
  {
   "cell_type": "code",
   "execution_count": 16,
   "id": "5891c98b",
   "metadata": {},
   "outputs": [
    {
     "name": "stdout",
     "output_type": "stream",
     "text": [
      "How are you?\n",
      "GREat\n",
      "I feel great too.\n"
     ]
    }
   ],
   "source": [
    "print('How are you?')\n",
    "feeling = input()\n",
    "if feeling.lower() == 'great':\n",
    "    print('I feel great too.')\n",
    "else:\n",
    "    print('I hope the rest of your day is good.')"
   ]
  },
  {
   "cell_type": "code",
   "execution_count": 17,
   "id": "72a2a2e1",
   "metadata": {},
   "outputs": [
    {
     "data": {
      "text/plain": [
       "False"
      ]
     },
     "execution_count": 17,
     "metadata": {},
     "output_type": "execute_result"
    }
   ],
   "source": [
    "spam.islower()"
   ]
  },
  {
   "cell_type": "code",
   "execution_count": 18,
   "id": "8b9f090d",
   "metadata": {},
   "outputs": [
    {
     "data": {
      "text/plain": [
       "False"
      ]
     },
     "execution_count": 18,
     "metadata": {},
     "output_type": "execute_result"
    }
   ],
   "source": [
    "spam.isupper()"
   ]
  },
  {
   "cell_type": "code",
   "execution_count": 19,
   "id": "cfbe89bb",
   "metadata": {},
   "outputs": [
    {
     "data": {
      "text/plain": [
       "True"
      ]
     },
     "execution_count": 19,
     "metadata": {},
     "output_type": "execute_result"
    }
   ],
   "source": [
    "'HELLO'.isupper()"
   ]
  },
  {
   "cell_type": "code",
   "execution_count": 20,
   "id": "40610239",
   "metadata": {},
   "outputs": [
    {
     "data": {
      "text/plain": [
       "True"
      ]
     },
     "execution_count": 20,
     "metadata": {},
     "output_type": "execute_result"
    }
   ],
   "source": [
    "'abc12345'.islower()"
   ]
  },
  {
   "cell_type": "code",
   "execution_count": 21,
   "id": "f63f0560",
   "metadata": {},
   "outputs": [
    {
     "data": {
      "text/plain": [
       "False"
      ]
     },
     "execution_count": 21,
     "metadata": {},
     "output_type": "execute_result"
    }
   ],
   "source": [
    "'12345'.islower()"
   ]
  },
  {
   "cell_type": "code",
   "execution_count": 22,
   "id": "72c22548",
   "metadata": {},
   "outputs": [
    {
     "data": {
      "text/plain": [
       "False"
      ]
     },
     "execution_count": 22,
     "metadata": {},
     "output_type": "execute_result"
    }
   ],
   "source": [
    "'12345'.isupper()"
   ]
  },
  {
   "cell_type": "code",
   "execution_count": 23,
   "id": "60c92be5",
   "metadata": {},
   "outputs": [
    {
     "data": {
      "text/plain": [
       "'HELLO'"
      ]
     },
     "execution_count": 23,
     "metadata": {},
     "output_type": "execute_result"
    }
   ],
   "source": [
    "'Hello'.upper()"
   ]
  },
  {
   "cell_type": "code",
   "execution_count": 24,
   "id": "fa56818d",
   "metadata": {},
   "outputs": [
    {
     "data": {
      "text/plain": [
       "'hello'"
      ]
     },
     "execution_count": 24,
     "metadata": {},
     "output_type": "execute_result"
    }
   ],
   "source": [
    "'Hello'.upper().lower()"
   ]
  },
  {
   "cell_type": "code",
   "execution_count": 25,
   "id": "b32b526d",
   "metadata": {},
   "outputs": [
    {
     "data": {
      "text/plain": [
       "'HELLO'"
      ]
     },
     "execution_count": 25,
     "metadata": {},
     "output_type": "execute_result"
    }
   ],
   "source": [
    "'Hello'.upper().lower().upper()"
   ]
  },
  {
   "cell_type": "code",
   "execution_count": 26,
   "id": "00e90ceb",
   "metadata": {},
   "outputs": [
    {
     "data": {
      "text/plain": [
       "'hello'"
      ]
     },
     "execution_count": 26,
     "metadata": {},
     "output_type": "execute_result"
    }
   ],
   "source": [
    "'Hello'.lower()"
   ]
  },
  {
   "cell_type": "code",
   "execution_count": 27,
   "id": "67b27754",
   "metadata": {},
   "outputs": [
    {
     "data": {
      "text/plain": [
       "True"
      ]
     },
     "execution_count": 27,
     "metadata": {},
     "output_type": "execute_result"
    }
   ],
   "source": [
    "'Hello'.lower().islower()"
   ]
  },
  {
   "cell_type": "markdown",
   "id": "faae05ab",
   "metadata": {},
   "source": [
    "### The isX String methods"
   ]
  },
  {
   "cell_type": "code",
   "execution_count": 28,
   "id": "c8e2dd2f",
   "metadata": {},
   "outputs": [
    {
     "data": {
      "text/plain": [
       "True"
      ]
     },
     "execution_count": 28,
     "metadata": {},
     "output_type": "execute_result"
    }
   ],
   "source": [
    "'hello'.isalpha()"
   ]
  },
  {
   "cell_type": "code",
   "execution_count": 29,
   "id": "32cb16f1",
   "metadata": {},
   "outputs": [
    {
     "data": {
      "text/plain": [
       "False"
      ]
     },
     "execution_count": 29,
     "metadata": {},
     "output_type": "execute_result"
    }
   ],
   "source": [
    "'hello123'.isalpha()"
   ]
  },
  {
   "cell_type": "code",
   "execution_count": 30,
   "id": "01683b83",
   "metadata": {},
   "outputs": [
    {
     "data": {
      "text/plain": [
       "True"
      ]
     },
     "execution_count": 30,
     "metadata": {},
     "output_type": "execute_result"
    }
   ],
   "source": [
    "'hello123'.isalnum()"
   ]
  },
  {
   "cell_type": "code",
   "execution_count": 31,
   "id": "b15d2e96",
   "metadata": {},
   "outputs": [
    {
     "data": {
      "text/plain": [
       "True"
      ]
     },
     "execution_count": 31,
     "metadata": {},
     "output_type": "execute_result"
    }
   ],
   "source": [
    "'123'.isdecimal()"
   ]
  },
  {
   "cell_type": "code",
   "execution_count": 32,
   "id": "fb2cc6d3",
   "metadata": {},
   "outputs": [
    {
     "data": {
      "text/plain": [
       "True"
      ]
     },
     "execution_count": 32,
     "metadata": {},
     "output_type": "execute_result"
    }
   ],
   "source": [
    "'    '.isspace()"
   ]
  },
  {
   "cell_type": "code",
   "execution_count": 33,
   "id": "fc9deb10",
   "metadata": {},
   "outputs": [
    {
     "data": {
      "text/plain": [
       "True"
      ]
     },
     "execution_count": 33,
     "metadata": {},
     "output_type": "execute_result"
    }
   ],
   "source": [
    "'This Is Title Case'.istitle()"
   ]
  },
  {
   "cell_type": "code",
   "execution_count": 34,
   "id": "d21b0829",
   "metadata": {},
   "outputs": [
    {
     "data": {
      "text/plain": [
       "True"
      ]
     },
     "execution_count": 34,
     "metadata": {},
     "output_type": "execute_result"
    }
   ],
   "source": [
    "'This Is Title Case 123'.istitle()"
   ]
  },
  {
   "cell_type": "code",
   "execution_count": 35,
   "id": "a21faf5e",
   "metadata": {},
   "outputs": [
    {
     "data": {
      "text/plain": [
       "False"
      ]
     },
     "execution_count": 35,
     "metadata": {},
     "output_type": "execute_result"
    }
   ],
   "source": [
    "'This Is not Title Case'.istitle()"
   ]
  },
  {
   "cell_type": "code",
   "execution_count": 36,
   "id": "d34c0ff6",
   "metadata": {},
   "outputs": [
    {
     "data": {
      "text/plain": [
       "False"
      ]
     },
     "execution_count": 36,
     "metadata": {},
     "output_type": "execute_result"
    }
   ],
   "source": [
    "'This Is NOT Title Case Either'.istitle()"
   ]
  },
  {
   "cell_type": "code",
   "execution_count": 39,
   "id": "47eed996",
   "metadata": {},
   "outputs": [
    {
     "name": "stdout",
     "output_type": "stream",
     "text": [
      "Enter your age:\n",
      "forty two\n",
      "Please enter a number for your age.\n",
      "Enter your age:\n",
      "42\n",
      "Select a new password (letters and number only):\n",
      "secret3t!\n",
      "Passwords can only jave letters and numbers.\n",
      "Select a new password (letters and number only):\n",
      "secret3t\n"
     ]
    }
   ],
   "source": [
    "while True:\n",
    "    print(\"Enter your age:\")\n",
    "    age = input()\n",
    "    if age.isdecimal():\n",
    "        break\n",
    "    print(\"Please enter a number for your age.\")\n",
    "    \n",
    "while True:\n",
    "    print(\"Select a new password (letters and number only):\")\n",
    "    password = input()\n",
    "    if password.isalnum():\n",
    "        break\n",
    "    print(\"Passwords can only jave letters and numbers.\")"
   ]
  },
  {
   "cell_type": "markdown",
   "id": "3a02c6f1",
   "metadata": {},
   "source": [
    "### The starswith() and endwith() String methods"
   ]
  },
  {
   "cell_type": "code",
   "execution_count": 40,
   "id": "2bee7041",
   "metadata": {},
   "outputs": [
    {
     "data": {
      "text/plain": [
       "True"
      ]
     },
     "execution_count": 40,
     "metadata": {},
     "output_type": "execute_result"
    }
   ],
   "source": [
    "'Hello world!'.startswith('Hello')"
   ]
  },
  {
   "cell_type": "code",
   "execution_count": 41,
   "id": "8cca3fd5",
   "metadata": {},
   "outputs": [
    {
     "data": {
      "text/plain": [
       "True"
      ]
     },
     "execution_count": 41,
     "metadata": {},
     "output_type": "execute_result"
    }
   ],
   "source": [
    "'Hello world!'.endswith('world!')"
   ]
  },
  {
   "cell_type": "code",
   "execution_count": 42,
   "id": "b5269e57",
   "metadata": {},
   "outputs": [
    {
     "data": {
      "text/plain": [
       "False"
      ]
     },
     "execution_count": 42,
     "metadata": {},
     "output_type": "execute_result"
    }
   ],
   "source": [
    "'abc123'.startswith('abcedf')"
   ]
  },
  {
   "cell_type": "code",
   "execution_count": 43,
   "id": "19b875a4",
   "metadata": {},
   "outputs": [
    {
     "data": {
      "text/plain": [
       "False"
      ]
     },
     "execution_count": 43,
     "metadata": {},
     "output_type": "execute_result"
    }
   ],
   "source": [
    "'abc123'.endswith('12')"
   ]
  },
  {
   "cell_type": "code",
   "execution_count": 44,
   "id": "ec589203",
   "metadata": {},
   "outputs": [
    {
     "data": {
      "text/plain": [
       "True"
      ]
     },
     "execution_count": 44,
     "metadata": {},
     "output_type": "execute_result"
    }
   ],
   "source": [
    "'Hello world!'.startswith('Hello world!')"
   ]
  },
  {
   "cell_type": "code",
   "execution_count": 45,
   "id": "a34ace11",
   "metadata": {},
   "outputs": [
    {
     "data": {
      "text/plain": [
       "True"
      ]
     },
     "execution_count": 45,
     "metadata": {},
     "output_type": "execute_result"
    }
   ],
   "source": [
    "'Hello world!'.endswith('Hello world!')"
   ]
  },
  {
   "cell_type": "markdown",
   "id": "4a05c68f",
   "metadata": {},
   "source": [
    "### The join() and split() methods"
   ]
  },
  {
   "cell_type": "code",
   "execution_count": 47,
   "id": "e54eb15c",
   "metadata": {},
   "outputs": [
    {
     "data": {
      "text/plain": [
       "'cats, rats, bats'"
      ]
     },
     "execution_count": 47,
     "metadata": {},
     "output_type": "execute_result"
    }
   ],
   "source": [
    "', '.join(['cats', 'rats', 'bats'])"
   ]
  },
  {
   "cell_type": "code",
   "execution_count": 48,
   "id": "28d25f92",
   "metadata": {},
   "outputs": [
    {
     "data": {
      "text/plain": [
       "'My name is Simon'"
      ]
     },
     "execution_count": 48,
     "metadata": {},
     "output_type": "execute_result"
    }
   ],
   "source": [
    "' '.join(['My', 'name', 'is', 'Simon'])"
   ]
  },
  {
   "cell_type": "code",
   "execution_count": 49,
   "id": "d94fa991",
   "metadata": {},
   "outputs": [
    {
     "data": {
      "text/plain": [
       "'MyABCnameABCisABCSimon'"
      ]
     },
     "execution_count": 49,
     "metadata": {},
     "output_type": "execute_result"
    }
   ],
   "source": [
    "'ABC'.join(['My', 'name', 'is', 'Simon'])"
   ]
  },
  {
   "cell_type": "code",
   "execution_count": 50,
   "id": "81df5490",
   "metadata": {},
   "outputs": [
    {
     "data": {
      "text/plain": [
       "['My', 'name', 'is', 'Simon']"
      ]
     },
     "execution_count": 50,
     "metadata": {},
     "output_type": "execute_result"
    }
   ],
   "source": [
    "'My name is Simon'.split()"
   ]
  },
  {
   "cell_type": "code",
   "execution_count": 51,
   "id": "2421b2f5",
   "metadata": {},
   "outputs": [
    {
     "data": {
      "text/plain": [
       "['My', 'name', 'is', 'Simon']"
      ]
     },
     "execution_count": 51,
     "metadata": {},
     "output_type": "execute_result"
    }
   ],
   "source": [
    "'MyABCnameABCisABCSimon'.split('ABC')"
   ]
  },
  {
   "cell_type": "code",
   "execution_count": 52,
   "id": "3b2b0efa",
   "metadata": {},
   "outputs": [
    {
     "data": {
      "text/plain": [
       "['My na', 'e is Si', 'on']"
      ]
     },
     "execution_count": 52,
     "metadata": {},
     "output_type": "execute_result"
    }
   ],
   "source": [
    "'My name is Simon'.split('m')"
   ]
  },
  {
   "cell_type": "code",
   "execution_count": 54,
   "id": "aaa66aa3",
   "metadata": {},
   "outputs": [
    {
     "data": {
      "text/plain": [
       "['Dear Alice,',\n",
       " 'How have you been? I am fine.',\n",
       " 'There is a container in the fridge',\n",
       " 'that is labeled \"Milk Experiment\".',\n",
       " '',\n",
       " 'Please do not drink it.',\n",
       " 'Sincerely,',\n",
       " 'Bob']"
      ]
     },
     "execution_count": 54,
     "metadata": {},
     "output_type": "execute_result"
    }
   ],
   "source": [
    "spam = '''Dear Alice,\n",
    "How have you been? I am fine.\n",
    "There is a container in the fridge\n",
    "that is labeled \"Milk Experiment\".\n",
    "\n",
    "Please do not drink it.\n",
    "Sincerely,\n",
    "Bob'''\n",
    "\n",
    "spam.split('\\n')"
   ]
  },
  {
   "cell_type": "markdown",
   "id": "84b1b3b9",
   "metadata": {},
   "source": [
    "### Justifying text with rjust(), ljust(), and center()"
   ]
  },
  {
   "cell_type": "code",
   "execution_count": 55,
   "id": "a449f0a7",
   "metadata": {},
   "outputs": [
    {
     "data": {
      "text/plain": [
       "'     Hello'"
      ]
     },
     "execution_count": 55,
     "metadata": {},
     "output_type": "execute_result"
    }
   ],
   "source": [
    "'Hello'.rjust(10)"
   ]
  },
  {
   "cell_type": "code",
   "execution_count": 56,
   "id": "868d0078",
   "metadata": {},
   "outputs": [
    {
     "data": {
      "text/plain": [
       "'               Hello'"
      ]
     },
     "execution_count": 56,
     "metadata": {},
     "output_type": "execute_result"
    }
   ],
   "source": [
    "'Hello'.rjust(20)"
   ]
  },
  {
   "cell_type": "code",
   "execution_count": 57,
   "id": "b3819893",
   "metadata": {},
   "outputs": [
    {
     "data": {
      "text/plain": [
       "'         Hello World'"
      ]
     },
     "execution_count": 57,
     "metadata": {},
     "output_type": "execute_result"
    }
   ],
   "source": [
    "'Hello World'.rjust(20)"
   ]
  },
  {
   "cell_type": "code",
   "execution_count": 58,
   "id": "8a5e18d1",
   "metadata": {},
   "outputs": [
    {
     "data": {
      "text/plain": [
       "'Hello     '"
      ]
     },
     "execution_count": 58,
     "metadata": {},
     "output_type": "execute_result"
    }
   ],
   "source": [
    "'Hello'.ljust(10)"
   ]
  },
  {
   "cell_type": "code",
   "execution_count": 59,
   "id": "ed8f0736",
   "metadata": {},
   "outputs": [
    {
     "data": {
      "text/plain": [
       "'***************Hello'"
      ]
     },
     "execution_count": 59,
     "metadata": {},
     "output_type": "execute_result"
    }
   ],
   "source": [
    "'Hello'.rjust(20, '*')"
   ]
  },
  {
   "cell_type": "code",
   "execution_count": 60,
   "id": "2cb9f7c8",
   "metadata": {},
   "outputs": [
    {
     "data": {
      "text/plain": [
       "'Hello---------------'"
      ]
     },
     "execution_count": 60,
     "metadata": {},
     "output_type": "execute_result"
    }
   ],
   "source": [
    "'Hello'.ljust(20, '-')"
   ]
  },
  {
   "cell_type": "code",
   "execution_count": 61,
   "id": "f6d2fe52",
   "metadata": {},
   "outputs": [
    {
     "data": {
      "text/plain": [
       "'       Hello        '"
      ]
     },
     "execution_count": 61,
     "metadata": {},
     "output_type": "execute_result"
    }
   ],
   "source": [
    "'Hello'.center(20)"
   ]
  },
  {
   "cell_type": "code",
   "execution_count": 63,
   "id": "822e29b5",
   "metadata": {},
   "outputs": [
    {
     "data": {
      "text/plain": [
       "'=======Hello========'"
      ]
     },
     "execution_count": 63,
     "metadata": {},
     "output_type": "execute_result"
    }
   ],
   "source": [
    "'Hello'.center(20, '=')"
   ]
  },
  {
   "cell_type": "code",
   "execution_count": 68,
   "id": "4d77883c",
   "metadata": {},
   "outputs": [
    {
     "name": "stdout",
     "output_type": "stream",
     "text": [
      "---PICNIC ITEMS--\n",
      "sandwiches..    4\n",
      "apples......   12\n",
      "cups........    4\n",
      "cookies..... 8000\n",
      "\n",
      "\n",
      "-------PICNIC ITEMS-------\n",
      "sandwiches..........     4\n",
      "apples..............    12\n",
      "cups................     4\n",
      "cookies.............  8000\n",
      "\n",
      "\n"
     ]
    }
   ],
   "source": [
    "def printPicnic(itemsDict, leftWidth, rightWidth):\n",
    "    print(\"PICNIC ITEMS\".center(leftWidth + rightWidth, '-'))\n",
    "    for k, v in itemsDict.items():\n",
    "        print(k.ljust(leftWidth, '.') + str(v).rjust(rightWidth))\n",
    "    print(\"\\n\")\n",
    "        \n",
    "picnicItems = {'sandwiches': 4, 'apples': 12, 'cups': 4, 'cookies':8000}\n",
    "printPicnic(picnicItems, 12, 5)\n",
    "printPicnic(picnicItems, 20, 6)"
   ]
  },
  {
   "cell_type": "markdown",
   "id": "5ac9f07f",
   "metadata": {},
   "source": [
    "### Removing Whitespace with strip(), rstrip(), and lstrip()"
   ]
  },
  {
   "cell_type": "code",
   "execution_count": 69,
   "id": "e217106c",
   "metadata": {},
   "outputs": [
    {
     "data": {
      "text/plain": [
       "'Hello World'"
      ]
     },
     "execution_count": 69,
     "metadata": {},
     "output_type": "execute_result"
    }
   ],
   "source": [
    "spam = '   Hello World   '\n",
    "spam.strip()"
   ]
  },
  {
   "cell_type": "code",
   "execution_count": 70,
   "id": "475d5526",
   "metadata": {},
   "outputs": [
    {
     "data": {
      "text/plain": [
       "'Hello World   '"
      ]
     },
     "execution_count": 70,
     "metadata": {},
     "output_type": "execute_result"
    }
   ],
   "source": [
    "spam.lstrip()"
   ]
  },
  {
   "cell_type": "code",
   "execution_count": 71,
   "id": "a66806c4",
   "metadata": {},
   "outputs": [
    {
     "data": {
      "text/plain": [
       "'   Hello World'"
      ]
     },
     "execution_count": 71,
     "metadata": {},
     "output_type": "execute_result"
    }
   ],
   "source": [
    "spam.rstrip()"
   ]
  },
  {
   "cell_type": "code",
   "execution_count": 72,
   "id": "58774c29",
   "metadata": {},
   "outputs": [
    {
     "data": {
      "text/plain": [
       "'BaconSpamEggs'"
      ]
     },
     "execution_count": 72,
     "metadata": {},
     "output_type": "execute_result"
    }
   ],
   "source": [
    "spam = 'SpamSpamBaconSpamEggsSpamSpam'\n",
    "spam.strip('ampS')"
   ]
  }
 ],
 "metadata": {
  "kernelspec": {
   "display_name": "Python 3 (ipykernel)",
   "language": "python",
   "name": "python3"
  },
  "language_info": {
   "codemirror_mode": {
    "name": "ipython",
    "version": 3
   },
   "file_extension": ".py",
   "mimetype": "text/x-python",
   "name": "python",
   "nbconvert_exporter": "python",
   "pygments_lexer": "ipython3",
   "version": "3.11.5"
  }
 },
 "nbformat": 4,
 "nbformat_minor": 5
}
